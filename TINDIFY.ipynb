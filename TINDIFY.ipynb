{
 "cells": [
  {
   "cell_type": "code",
   "execution_count": 410,
   "id": "320a68b9-4415-4801-a874-ccecee9566cb",
   "metadata": {},
   "outputs": [
    {
     "name": "stdout",
     "output_type": "stream",
     "text": [
      "Requirement already satisfied: spotipy in c:\\users\\david\\anaconda3\\lib\\site-packages (2.25.1)\n",
      "Requirement already satisfied: streamlit in c:\\users\\david\\anaconda3\\lib\\site-packages (1.37.1)\n",
      "Requirement already satisfied: tensorflow in c:\\users\\david\\anaconda3\\lib\\site-packages (2.19.0)\n",
      "Requirement already satisfied: pandas in c:\\users\\david\\anaconda3\\lib\\site-packages (2.2.2)\n",
      "Requirement already satisfied: numpy in c:\\users\\david\\anaconda3\\lib\\site-packages (1.26.4)\n",
      "Requirement already satisfied: scikit-learn in c:\\users\\david\\anaconda3\\lib\\site-packages (1.5.1)\n",
      "Requirement already satisfied: requests in c:\\users\\david\\anaconda3\\lib\\site-packages (2.32.3)\n",
      "Collecting musicbrainzngs\n",
      "  Downloading musicbrainzngs-0.7.1-py2.py3-none-any.whl.metadata (3.3 kB)\n",
      "Requirement already satisfied: redis>=3.5.3 in c:\\users\\david\\anaconda3\\lib\\site-packages (from spotipy) (6.2.0)\n",
      "Requirement already satisfied: urllib3>=1.26.0 in c:\\users\\david\\anaconda3\\lib\\site-packages (from spotipy) (2.2.3)\n",
      "Requirement already satisfied: altair<6,>=4.0 in c:\\users\\david\\anaconda3\\lib\\site-packages (from streamlit) (5.0.1)\n",
      "Requirement already satisfied: blinker<2,>=1.0.0 in c:\\users\\david\\anaconda3\\lib\\site-packages (from streamlit) (1.6.2)\n",
      "Requirement already satisfied: cachetools<6,>=4.0 in c:\\users\\david\\anaconda3\\lib\\site-packages (from streamlit) (5.3.3)\n",
      "Requirement already satisfied: click<9,>=7.0 in c:\\users\\david\\anaconda3\\lib\\site-packages (from streamlit) (8.1.7)\n",
      "Requirement already satisfied: packaging<25,>=20 in c:\\users\\david\\anaconda3\\lib\\site-packages (from streamlit) (24.1)\n",
      "Requirement already satisfied: pillow<11,>=7.1.0 in c:\\users\\david\\anaconda3\\lib\\site-packages (from streamlit) (10.4.0)\n",
      "Requirement already satisfied: protobuf<6,>=3.20 in c:\\users\\david\\anaconda3\\lib\\site-packages (from streamlit) (4.25.3)\n",
      "Requirement already satisfied: pyarrow>=7.0 in c:\\users\\david\\anaconda3\\lib\\site-packages (from streamlit) (16.1.0)\n",
      "Requirement already satisfied: rich<14,>=10.14.0 in c:\\users\\david\\anaconda3\\lib\\site-packages (from streamlit) (13.7.1)\n",
      "Requirement already satisfied: tenacity<9,>=8.1.0 in c:\\users\\david\\anaconda3\\lib\\site-packages (from streamlit) (8.2.3)\n",
      "Requirement already satisfied: toml<2,>=0.10.1 in c:\\users\\david\\anaconda3\\lib\\site-packages (from streamlit) (0.10.2)\n",
      "Requirement already satisfied: typing-extensions<5,>=4.3.0 in c:\\users\\david\\anaconda3\\lib\\site-packages (from streamlit) (4.11.0)\n",
      "Requirement already satisfied: gitpython!=3.1.19,<4,>=3.0.7 in c:\\users\\david\\anaconda3\\lib\\site-packages (from streamlit) (3.1.43)\n",
      "Requirement already satisfied: pydeck<1,>=0.8.0b4 in c:\\users\\david\\anaconda3\\lib\\site-packages (from streamlit) (0.8.0)\n",
      "Requirement already satisfied: tornado<7,>=6.0.3 in c:\\users\\david\\anaconda3\\lib\\site-packages (from streamlit) (6.4.1)\n",
      "Requirement already satisfied: watchdog<5,>=2.1.5 in c:\\users\\david\\anaconda3\\lib\\site-packages (from streamlit) (4.0.1)\n",
      "Requirement already satisfied: absl-py>=1.0.0 in c:\\users\\david\\anaconda3\\lib\\site-packages (from tensorflow) (2.2.2)\n",
      "Requirement already satisfied: astunparse>=1.6.0 in c:\\users\\david\\anaconda3\\lib\\site-packages (from tensorflow) (1.6.3)\n",
      "Requirement already satisfied: flatbuffers>=24.3.25 in c:\\users\\david\\anaconda3\\lib\\site-packages (from tensorflow) (25.2.10)\n",
      "Requirement already satisfied: gast!=0.5.0,!=0.5.1,!=0.5.2,>=0.2.1 in c:\\users\\david\\anaconda3\\lib\\site-packages (from tensorflow) (0.6.0)\n",
      "Requirement already satisfied: google-pasta>=0.1.1 in c:\\users\\david\\anaconda3\\lib\\site-packages (from tensorflow) (0.2.0)\n",
      "Requirement already satisfied: libclang>=13.0.0 in c:\\users\\david\\anaconda3\\lib\\site-packages (from tensorflow) (18.1.1)\n",
      "Requirement already satisfied: opt-einsum>=2.3.2 in c:\\users\\david\\anaconda3\\lib\\site-packages (from tensorflow) (3.4.0)\n",
      "Requirement already satisfied: setuptools in c:\\users\\david\\anaconda3\\lib\\site-packages (from tensorflow) (75.1.0)\n",
      "Requirement already satisfied: six>=1.12.0 in c:\\users\\david\\anaconda3\\lib\\site-packages (from tensorflow) (1.16.0)\n",
      "Requirement already satisfied: termcolor>=1.1.0 in c:\\users\\david\\anaconda3\\lib\\site-packages (from tensorflow) (3.0.1)\n",
      "Requirement already satisfied: wrapt>=1.11.0 in c:\\users\\david\\anaconda3\\lib\\site-packages (from tensorflow) (1.14.1)\n",
      "Requirement already satisfied: grpcio<2.0,>=1.24.3 in c:\\users\\david\\anaconda3\\lib\\site-packages (from tensorflow) (1.71.0)\n",
      "Requirement already satisfied: tensorboard~=2.19.0 in c:\\users\\david\\anaconda3\\lib\\site-packages (from tensorflow) (2.19.0)\n",
      "Requirement already satisfied: keras>=3.5.0 in c:\\users\\david\\anaconda3\\lib\\site-packages (from tensorflow) (3.9.2)\n",
      "Requirement already satisfied: h5py>=3.11.0 in c:\\users\\david\\anaconda3\\lib\\site-packages (from tensorflow) (3.11.0)\n",
      "Requirement already satisfied: ml-dtypes<1.0.0,>=0.5.1 in c:\\users\\david\\anaconda3\\lib\\site-packages (from tensorflow) (0.5.1)\n",
      "Requirement already satisfied: python-dateutil>=2.8.2 in c:\\users\\david\\anaconda3\\lib\\site-packages (from pandas) (2.9.0.post0)\n",
      "Requirement already satisfied: pytz>=2020.1 in c:\\users\\david\\anaconda3\\lib\\site-packages (from pandas) (2024.1)\n",
      "Requirement already satisfied: tzdata>=2022.7 in c:\\users\\david\\anaconda3\\lib\\site-packages (from pandas) (2023.3)\n",
      "Requirement already satisfied: scipy>=1.6.0 in c:\\users\\david\\anaconda3\\lib\\site-packages (from scikit-learn) (1.13.1)\n",
      "Requirement already satisfied: joblib>=1.2.0 in c:\\users\\david\\anaconda3\\lib\\site-packages (from scikit-learn) (1.4.2)\n",
      "Requirement already satisfied: threadpoolctl>=3.1.0 in c:\\users\\david\\anaconda3\\lib\\site-packages (from scikit-learn) (3.5.0)\n",
      "Requirement already satisfied: charset-normalizer<4,>=2 in c:\\users\\david\\anaconda3\\lib\\site-packages (from requests) (3.3.2)\n",
      "Requirement already satisfied: idna<4,>=2.5 in c:\\users\\david\\anaconda3\\lib\\site-packages (from requests) (3.7)\n",
      "Requirement already satisfied: certifi>=2017.4.17 in c:\\users\\david\\anaconda3\\lib\\site-packages (from requests) (2025.1.31)\n",
      "Requirement already satisfied: jinja2 in c:\\users\\david\\anaconda3\\lib\\site-packages (from altair<6,>=4.0->streamlit) (3.1.4)\n",
      "Requirement already satisfied: jsonschema>=3.0 in c:\\users\\david\\anaconda3\\lib\\site-packages (from altair<6,>=4.0->streamlit) (4.23.0)\n",
      "Requirement already satisfied: toolz in c:\\users\\david\\anaconda3\\lib\\site-packages (from altair<6,>=4.0->streamlit) (0.12.0)\n",
      "Requirement already satisfied: wheel<1.0,>=0.23.0 in c:\\users\\david\\anaconda3\\lib\\site-packages (from astunparse>=1.6.0->tensorflow) (0.44.0)\n",
      "Requirement already satisfied: colorama in c:\\users\\david\\anaconda3\\lib\\site-packages (from click<9,>=7.0->streamlit) (0.4.6)\n",
      "Requirement already satisfied: gitdb<5,>=4.0.1 in c:\\users\\david\\anaconda3\\lib\\site-packages (from gitpython!=3.1.19,<4,>=3.0.7->streamlit) (4.0.7)\n",
      "Requirement already satisfied: namex in c:\\users\\david\\anaconda3\\lib\\site-packages (from keras>=3.5.0->tensorflow) (0.0.8)\n",
      "Requirement already satisfied: optree in c:\\users\\david\\anaconda3\\lib\\site-packages (from keras>=3.5.0->tensorflow) (0.15.0)\n",
      "Requirement already satisfied: markdown-it-py>=2.2.0 in c:\\users\\david\\anaconda3\\lib\\site-packages (from rich<14,>=10.14.0->streamlit) (2.2.0)\n",
      "Requirement already satisfied: pygments<3.0.0,>=2.13.0 in c:\\users\\david\\anaconda3\\lib\\site-packages (from rich<14,>=10.14.0->streamlit) (2.15.1)\n",
      "Requirement already satisfied: markdown>=2.6.8 in c:\\users\\david\\anaconda3\\lib\\site-packages (from tensorboard~=2.19.0->tensorflow) (3.4.1)\n",
      "Requirement already satisfied: tensorboard-data-server<0.8.0,>=0.7.0 in c:\\users\\david\\anaconda3\\lib\\site-packages (from tensorboard~=2.19.0->tensorflow) (0.7.2)\n",
      "Requirement already satisfied: werkzeug>=1.0.1 in c:\\users\\david\\anaconda3\\lib\\site-packages (from tensorboard~=2.19.0->tensorflow) (3.0.3)\n",
      "Requirement already satisfied: smmap<5,>=3.0.1 in c:\\users\\david\\anaconda3\\lib\\site-packages (from gitdb<5,>=4.0.1->gitpython!=3.1.19,<4,>=3.0.7->streamlit) (4.0.0)\n",
      "Requirement already satisfied: MarkupSafe>=2.0 in c:\\users\\david\\anaconda3\\lib\\site-packages (from jinja2->altair<6,>=4.0->streamlit) (2.1.3)\n",
      "Requirement already satisfied: attrs>=22.2.0 in c:\\users\\david\\anaconda3\\lib\\site-packages (from jsonschema>=3.0->altair<6,>=4.0->streamlit) (23.1.0)\n",
      "Requirement already satisfied: jsonschema-specifications>=2023.03.6 in c:\\users\\david\\anaconda3\\lib\\site-packages (from jsonschema>=3.0->altair<6,>=4.0->streamlit) (2023.7.1)\n",
      "Requirement already satisfied: referencing>=0.28.4 in c:\\users\\david\\anaconda3\\lib\\site-packages (from jsonschema>=3.0->altair<6,>=4.0->streamlit) (0.30.2)\n",
      "Requirement already satisfied: rpds-py>=0.7.1 in c:\\users\\david\\anaconda3\\lib\\site-packages (from jsonschema>=3.0->altair<6,>=4.0->streamlit) (0.10.6)\n",
      "Requirement already satisfied: mdurl~=0.1 in c:\\users\\david\\anaconda3\\lib\\site-packages (from markdown-it-py>=2.2.0->rich<14,>=10.14.0->streamlit) (0.1.0)\n",
      "Downloading musicbrainzngs-0.7.1-py2.py3-none-any.whl (25 kB)\n",
      "Installing collected packages: musicbrainzngs\n",
      "Successfully installed musicbrainzngs-0.7.1\n"
     ]
    }
   ],
   "source": [
    "!pip install spotipy streamlit tensorflow pandas numpy scikit-learn requests musicbrainzngs"
   ]
  },
  {
   "cell_type": "code",
   "execution_count": 374,
   "id": "c93b688d-b441-44c4-827f-ba70a264898c",
   "metadata": {},
   "outputs": [],
   "source": [
    "import numpy as np\n",
    "import pandas as pd\n",
    "import tensorflow as tf\n",
    "from tensorflow import keras\n",
    "from tensorflow.keras import layers\n",
    "import spotipy\n",
    "from spotipy.oauth2 import SpotifyOAuth\n",
    "import pickle\n",
    "import os\n",
    "import random\n",
    "import time\n",
    "import copy\n",
    "from sklearn.metrics.pairwise import cosine_similarity\n",
    "from sklearn.preprocessing import StandardScaler\n",
    "import math\n",
    "import matplotlib.pyplot as plt\n",
    "import streamlit as st #sa speram ca apuc sa-i fac si ui\n",
    "import musicbrainzngs #pt ca spotipy nu mai ofera song audio features"
   ]
  },
  {
   "cell_type": "code",
   "execution_count": 386,
   "id": "8e19e2fb-a05b-4f4e-8d6e-58d26d115b6e",
   "metadata": {},
   "outputs": [],
   "source": [
    "#CLIENT_ID=os.environ.get('CLIENT_ID')\n",
    "CLIENT_ID='c2683c1b0a1f4086974e2fe4f8abb9a1'\n",
    "#CLIENT_SECRET=os.environ.get('CLIENT_SECRET')\n",
    "CLIENT_SECRET='3dfb3754823542f4b2cd529df78cd5d8'\n",
    "#REDIRECT_URI = 'https://developer.spotify.com/'  \n",
    "REDIRECT_URI='https://developer.spotify.com/'\n",
    "#REDIRECT_URI='http://127.0.0.1:8888/callback'\n",
    "#REDIRECT_URI = 'https://127.0.0.1:5000/callback'# spotify cere secure, nu merge http asa ca am facut asta cu mkcert si flask disponibil pana in 8 sept"
   ]
  },
  {
   "cell_type": "code",
   "execution_count": 388,
   "id": "2f286cc0-4213-437d-a195-bdd5f68d5b5c",
   "metadata": {},
   "outputs": [],
   "source": [
    "#print(CLIENT_ID, CLIENT_SECRET, REDIRECT_URI)"
   ]
  },
  {
   "cell_type": "code",
   "execution_count": 390,
   "id": "1b2798a3-6f0b-4424-932a-5ba0175d35aa",
   "metadata": {},
   "outputs": [],
   "source": [
    "sp = spotipy.Spotify(\n",
    "    auth_manager=SpotifyOAuth(\n",
    "        client_id=CLIENT_ID,\n",
    "        client_secret=CLIENT_SECRET,\n",
    "        redirect_uri=REDIRECT_URI,\n",
    "        scope='user-read-private user-read-email user-read-playback-state user-modify-playback-state user-read-currently-playing user-library-modify user-library-read user-top-read playlist-read-private playlist-modify-public playlist-modify-private playlist-read-collaborative user-follow-read user-follow-modify user-read-recently-played user-read-private'\n",
    "        #scope='user-library-read user-top-read playlist-read-private playlist-read-collaborative' #de modificat in functie de nevoie\n",
    "    )\n",
    ")"
   ]
  },
  {
   "cell_type": "code",
   "execution_count": 392,
   "id": "c057d3a8-3e06-4bba-b501-d7e9917e68fc",
   "metadata": {},
   "outputs": [],
   "source": [
    "st.set_page_config(page_title='TINDIFY', page_icon=':musical_note:')\n",
    "st.title('Tinder for music tracks')\n",
    "st.write('Match with new songs that match your vibe! Swipe right to add a track to your favorites, up to add it to a special playlist as well as to your favorites, and left if it is not quite your type')"
   ]
  },
  {
   "cell_type": "code",
   "execution_count": 394,
   "id": "d52dedac-8c69-4035-b312-923d9438a4ee",
   "metadata": {},
   "outputs": [
    {
     "name": "stdin",
     "output_type": "stream",
     "text": [
      "Enter the URL you were redirected to:  https://developer.spotify.com/?code=AQBfocuxZZ0zm0yVLzwa70CO8VgqmE2Uxz5FVVe4Y_tDs8QFJSgHO0F5uIKltwy5Xct_98FgfT0DChpRF8GSSigKHzY4S4dz_PCeXCdIC7oT0yXTLSBEINd3etbIhmFYWzo_uqepcJYsm9cCMzJLlBNPYjFlGx-2WSK_cynaBPV-KUMs4pr3zjHG15pfy_AqI2VZQzRj-Yg3KI0zY4yTU-jdxG4fw19kU6iriE8BuVGt0A78XF6-6JinuWFPs_xXe3bZpeY2EusEGoknr0yUNMMJltmWhsut6ZH58oxP4v6Bdkb-QVldqZBydDW4JlJnWDkmNRAx7Q8j1MpRYCdp-hwAhEs1o0DJbYpRUVwdmXbjHsfUxDYe-fdhgwAAisp4EqBGRavkd3X2nzRJpyq7dj0LAflmGJm_6-CkQ8KLPb6FrJ5dz1YgofySR_HbwS_ucGHGotfSxmy-tlK2BguB0isFKDedHqK-ahN3XiZ1UDfC9ymz5DNCztFxgTPX5mD861_ZaqcD8NbnrLwgiyuYGm2BCrJmtnWc8HjyQUQkQBrDeEAXOvUEsO3W2ngMSZfG088xY6A1GyehO6x9Vewmd7cmDWBolk-ae5B8v6qA69-UhgYm8t4\n"
     ]
    }
   ],
   "source": [
    "top_tracks_long=sp.current_user_top_tracks(limit=50, time_range='long_term')\n",
    "top_tracks_medium=sp.current_user_top_tracks(limit=50, time_range='medium_term')\n",
    "top_tracks_short=sp.current_user_top_tracks(limit=50, time_range='short_term')"
   ]
  },
  {
   "cell_type": "code",
   "execution_count": 414,
   "id": "d9c5f7e6-e5d1-474f-8a90-62764d829ff5",
   "metadata": {},
   "outputs": [
    {
     "name": "stdout",
     "output_type": "stream",
     "text": [
      "['B.M.V.', 'Go Gettas', 'Brasileira - From “TEAMBUILDING” The Movie', 'Paranoid - 2012 - Remaster', 'The Pretender', 'Hand Of Blood', 'Raining Blood', 'One Last Breath', 'Higher', 'Sad But True - Remastered 2021', '7 Words', 'Endorama', 'Voices In My Head', 'Chop Suey!', 'MIDDLE CHILD', 'Treaba Ei', 'Master Of Puppets', 'Freedom', 'Strength Beyond Strength', 'Creep', 'Godzilla (feat. Juice WRLD)', 'No More Tears', 'How You Remind Me', 'Lying from You', 'Symphony Of Destruction - Remastered 2012', 'I Hate Everything About You', 'Creeping Death - Creeping Death EP Version / Remastered', 'This Means War', 'Raping Your Mind', 'Brimstone', 'Mea Culpa (Ah! Ça ira!)', 'Eye of the Beholder', 'Floare de Fier', '808s and Goth Bitches', 'Engine No. 9', 'Love Is a Bitch', 'Supreme Ruler', 'Nuketown (feat. Juice WRLD)', 'To the Hellfire', 'Hit The Floor', 'Toxicity', 'Heart-Shaped Box', 'Agent Orange', 'BETO DANCE', 'Bleed', 'Closer', 'Over the Wall', 'Not Like Us', 'Unholy Confessions', 'One', 'Second & Sebring', 'Mr. Jack', 'Given Up', 'Du hast', 'Dicke Titten', 'Animal I Have Become', 'Domination', 'Thick And Thin', 'Decadence', 'Sugar', 'Floods', 'Cheap Vodka', 'Almost Easy', 'Mind', 'Game Over', 'Soil', 'Sonne', 'TUTUTU', 'Smells Like Teen Spirit - Remastered', 'The Drug In Me Is You', 'Let Me Live My Life', 'Around the Fur', '115', 'Spit It Out', 'Question!', 'Eyeless', 'Sugar', 'Given Up', 'Manic', 'All My Life', 'Aerials', 'Soil', 'Rocket', 'One', 'B.Y.O.B.', 'My Own Summer (Shove It)', 'Mind', 'Enter Sandman', 'Creeping Death - Remastered', 'Gimme a Second', 'The Great Southern Trendkill', 'For Whom The Bell Tolls - Remastered', 'Determined', \"It's My Life\", 'Kill You', 'Skeletons In My Closet', 'ATWA', 'Smells Like Teen Spirit', 'Custer', 'Darts']\n"
     ]
    }
   ],
   "source": [
    "#top_tracks = list(set([track for track in top_tracks_short].extend([track for track in top_tracks_medium].extend([track for track in top_tracks_long])))) #sa le luam in ordine, dar sa eliminam duplicatele\n",
    "#top_tracks = list(set([top_tracks_short.extend(top_tracks_medium)].extend(top_tracks_long)))\n",
    "#nu merge ca aparent e dictionar nu lista\n",
    "\n",
    "\n",
    "#all_tracks = top_tracks_long['items'] + top_tracks_medium['items'] + top_tracks_short['items']\n",
    "\n",
    "# seen = set()\n",
    "# unique_items = []\n",
    "# for track in all_tracks:\n",
    "#     tid = track['id']\n",
    "#     if tid not in seen:\n",
    "#         unique_items.append(track)  # obiectul full\n",
    "#         seen.add(tid)\n",
    "\n",
    "# top_tracks = {\n",
    "#     'items': unique_items,\n",
    "#     'total': len(unique_items),\n",
    "#     'limit': len(unique_items),\n",
    "#     'offset': 0\n",
    "# }\n",
    "\n",
    "#from collections import defaultdict\n",
    "\n",
    "# merged = defaultdict(set)\n",
    "\n",
    "# def to_iterable(val):\n",
    "#     if isinstance(val, (list, set, tuple)):\n",
    "#         return val\n",
    "#     return [val]\n",
    "\n",
    "# for k, v in top_tracks_short.items():\n",
    "#     merged[k].update(to_iterable(v))\n",
    "    \n",
    "# for k, v in top_tracks_medium.items():\n",
    "#     merged[k].update(to_iterable(v))\n",
    "\n",
    "# for k, v in top_tracks_long.items():\n",
    "#     merged[k].update(to_iterable(v))\n",
    "\n",
    "# top_tracks = {k: sorted(v) for k, v in merged.items()}\n",
    "\n",
    "merged_items = {}\n",
    "\n",
    "for track in top_tracks_short.get('items', []):\n",
    "    merged_items[track['id']] = track\n",
    "\n",
    "for track in top_tracks_medium.get('items', []):\n",
    "    merged_items[track['id']] = track\n",
    "\n",
    "for track in top_tracks_long.get('items', []):\n",
    "    merged_items[track['id']] = track\n",
    "\n",
    "top_tracks = {\n",
    "    'items': list(merged_items.values()),\n",
    "    'total': len(merged_items)\n",
    "}\n",
    "\n",
    "# print(top_tracks_short['total'])\n",
    "#print(len(top_tracks['items']))\n",
    "\n",
    "track_ids=[track['name'] for track in top_tracks['items']]\n",
    "\n",
    "print(track_ids)\n",
    "\n",
    "track_names=[track['name'] for track in top_tracks['items']]\n",
    "# print(len(track_names))"
   ]
  },
  {
   "cell_type": "code",
   "execution_count": 412,
   "id": "ac62a9da-336c-4cc9-bbfc-80021cc129ac",
   "metadata": {},
   "outputs": [
    {
     "name": "stdout",
     "output_type": "stream",
     "text": [
      "BQCOCZc3kqOWG-mQOy9Mn1qL0hLdz13i_7wKmAq3BvyUdKe5bgngTuEetJ2F644Y8mONzfWkJYaFfSgFl-uwBl7-iPd2Ug7788r_s3KLL_WNpTStyQQKZq6JwZvrpENUmTcbnsZ3y3Ls-xZDqIAyr0qMOB02EkTJAlusnJ4u0m1OIogST4wp32eMiCtpxi7GYNwN217FP_Q472tmFoJzPoLhQhtQGimF0g800uu1C27O5EIH4YFeRDBbIPzreXhYxtJS39LI9UOZNP-DpvxNb3c7cpJWmDs1jylGJgMuPZGScXEcVOAQVAMogN_AlOlGT4MojGq44mveY6VjVf7XIRKROQFupCbnwGT3KFE7p1Rebg\n"
     ]
    }
   ],
   "source": [
    "print(sp.auth_manager.get_access_token(as_dict=False))\n",
    "#sp.audio_features([\"6y2DHyCYf6azhUfXmnuH6w\"])"
   ]
  },
  {
   "cell_type": "code",
   "execution_count": 416,
   "id": "674315a1-80fa-427f-804a-2c4035ac3441",
   "metadata": {},
   "outputs": [],
   "source": [
    "#import os\n",
    "#os.remove(\".cache\")  # sau .cache-CLIENT_ID dacă e numit așaz"
   ]
  },
  {
   "cell_type": "code",
   "execution_count": 420,
   "id": "d5e8bb3b-e341-497b-b7ee-11efde4eca04",
   "metadata": {},
   "outputs": [],
   "source": [
    "#audio_features = sp.audio_features(track_ids) #spotipy nu mai pune asta la dispozitie"
   ]
  },
  {
   "cell_type": "code",
   "execution_count": 422,
   "id": "43db8320-ffb4-483a-8ec9-bda6192d2595",
   "metadata": {},
   "outputs": [],
   "source": [
    "# df = pd.DataFrame(audio_features)\n",
    "# df['track_name'] = [track['name'] for track in top_tracks['items']]\n",
    "# df = df[['track_name','danceability','energy','valence','tempo','liveness','instrumentalness','speechiness','acousticness']]\n",
    "# df.set_index('track_name',inplace=T)"
   ]
  },
  {
   "cell_type": "code",
   "execution_count": 424,
   "id": "295e7730-cd24-49b3-bf69-5b386f270ca3",
   "metadata": {},
   "outputs": [],
   "source": [
    "#TEMPORAR, PT VERIFICARE\n",
    "# st.subheader('barchart taste dataframe:')\n",
    "# st.bar_chart(df,height=500)"
   ]
  },
  {
   "cell_type": "code",
   "execution_count": null,
   "id": "963238fe-9780-47b3-acea-b697d184e349",
   "metadata": {},
   "outputs": [],
   "source": [
    "musicbrainzngs.set_useragent(\n",
    "    \"TINDIFY\", \"1.0\", \"https://github.com/david-tampea/tindify\"\n",
    ")"
   ]
  }
 ],
 "metadata": {
  "kernelspec": {
   "display_name": "Python [conda env:base] *",
   "language": "python",
   "name": "conda-base-py"
  },
  "language_info": {
   "codemirror_mode": {
    "name": "ipython",
    "version": 3
   },
   "file_extension": ".py",
   "mimetype": "text/x-python",
   "name": "python",
   "nbconvert_exporter": "python",
   "pygments_lexer": "ipython3",
   "version": "3.12.7"
  }
 },
 "nbformat": 4,
 "nbformat_minor": 5
}
